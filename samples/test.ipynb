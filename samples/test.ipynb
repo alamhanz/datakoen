{
 "cells": [
  {
   "cell_type": "code",
   "execution_count": 18,
   "metadata": {},
   "outputs": [],
   "source": [
    "import polars as pl"
   ]
  },
  {
   "cell_type": "code",
   "execution_count": 19,
   "metadata": {},
   "outputs": [],
   "source": [
    "dt = pl.read_csv('car_sales.csv')"
   ]
  },
  {
   "cell_type": "code",
   "execution_count": 35,
   "metadata": {},
   "outputs": [
    {
     "name": "stdout",
     "output_type": "stream",
     "text": [
      "Manufacturer\n",
      "Model\n",
      "Sales_in_thousands\n",
      "__year_resale_value\n",
      "Vehicle_type\n",
      "Price_in_thousands\n",
      "Engine_size\n",
      "Horsepower\n",
      "Wheelbase\n",
      "Width\n",
      "Length\n",
      "Curb_weight\n",
      "Fuel_capacity\n",
      "Fuel_efficiency\n",
      "Latest_Launch\n",
      "Power_perf_factor\n"
     ]
    }
   ],
   "source": [
    "default_types = dict(zip(dt.columns,dt.dtypes))\n",
    "for k in default_types:\n",
    "    print(k)"
   ]
  },
  {
   "cell_type": "code",
   "execution_count": 37,
   "metadata": {},
   "outputs": [
    {
     "data": {
      "text/plain": [
       "Utf8"
      ]
     },
     "execution_count": 37,
     "metadata": {},
     "output_type": "execute_result"
    }
   ],
   "source": [
    "yy"
   ]
  },
  {
   "cell_type": "code",
   "execution_count": 11,
   "metadata": {},
   "outputs": [
    {
     "data": {
      "text/html": [
       "<div><style>\n",
       ".dataframe > thead > tr > th,\n",
       ".dataframe > tbody > tr > td {\n",
       "  text-align: right;\n",
       "}\n",
       "</style>\n",
       "<small>shape: (10, 16)</small><table border=\"1\" class=\"dataframe\"><thead><tr><th>Manufacturer</th><th>Model</th><th>Sales_in_thousands</th><th>__year_resale_value</th><th>Vehicle_type</th><th>Price_in_thousands</th><th>Engine_size</th><th>Horsepower</th><th>Wheelbase</th><th>Width</th><th>Length</th><th>Curb_weight</th><th>Fuel_capacity</th><th>Fuel_efficiency</th><th>Latest_Launch</th><th>Power_perf_factor</th></tr><tr><td>str</td><td>str</td><td>f64</td><td>f64</td><td>str</td><td>f64</td><td>f64</td><td>i64</td><td>f64</td><td>f64</td><td>f64</td><td>f64</td><td>f64</td><td>i64</td><td>str</td><td>f64</td></tr></thead><tbody><tr><td>&quot;Mercedes-B&quot;</td><td>&quot;S-Class&quot;</td><td>16.774</td><td>50.375</td><td>&quot;Passenger&quot;</td><td>69.7</td><td>4.3</td><td>275</td><td>121.5</td><td>73.1</td><td>203.1</td><td>4.133</td><td>23.2</td><td>21</td><td>&quot;6/13/2011&quot;</td><td>125.273876</td></tr><tr><td>&quot;Dodge&quot;</td><td>&quot;Durango&quot;</td><td>101.323</td><td>null</td><td>&quot;Car&quot;</td><td>26.31</td><td>5.2</td><td>230</td><td>115.7</td><td>71.7</td><td>193.5</td><td>4.394</td><td>25.0</td><td>17</td><td>&quot;6/27/2012&quot;</td><td>92.854125</td></tr><tr><td>&quot;Nissan&quot;</td><td>&quot;Frontier&quot;</td><td>65.005</td><td>null</td><td>&quot;Car&quot;</td><td>17.89</td><td>3.3</td><td>170</td><td>116.1</td><td>66.5</td><td>196.1</td><td>3.217</td><td>19.4</td><td>18</td><td>&quot;8/27/2011&quot;</td><td>67.889271</td></tr><tr><td>&quot;Dodge&quot;</td><td>&quot;Caravan&quot;</td><td>181.749</td><td>12.025</td><td>&quot;Car&quot;</td><td>19.565</td><td>2.4</td><td>150</td><td>113.3</td><td>76.8</td><td>186.3</td><td>3.533</td><td>20.0</td><td>24</td><td>&quot;9/1/2011&quot;</td><td>61.227</td></tr><tr><td>&quot;Audi&quot;</td><td>&quot;A4&quot;</td><td>20.397</td><td>22.255</td><td>&quot;Passenger&quot;</td><td>23.99</td><td>1.8</td><td>150</td><td>102.6</td><td>68.2</td><td>178.0</td><td>2.998</td><td>16.4</td><td>27</td><td>&quot;10/8/2011&quot;</td><td>62.777639</td></tr><tr><td>&quot;Nissan&quot;</td><td>&quot;Maxima&quot;</td><td>79.853</td><td>15.125</td><td>&quot;Passenger&quot;</td><td>26.249</td><td>3.0</td><td>222</td><td>108.3</td><td>70.3</td><td>190.5</td><td>3.294</td><td>18.5</td><td>25</td><td>&quot;5/6/2011&quot;</td><td>89.42782</td></tr><tr><td>&quot;Saturn&quot;</td><td>&quot;SL&quot;</td><td>80.62</td><td>9.2</td><td>&quot;Passenger&quot;</td><td>10.685</td><td>1.9</td><td>100</td><td>102.4</td><td>66.4</td><td>176.9</td><td>2.332</td><td>12.1</td><td>33</td><td>&quot;8/16/2012&quot;</td><td>39.986425</td></tr><tr><td>&quot;Pontiac&quot;</td><td>&quot;Bonneville&quot;</td><td>35.945</td><td>13.225</td><td>&quot;Passenger&quot;</td><td>23.755</td><td>3.8</td><td>205</td><td>112.2</td><td>72.6</td><td>202.5</td><td>3.59</td><td>17.5</td><td>24</td><td>&quot;5/18/2011&quot;</td><td>82.661356</td></tr><tr><td>&quot;Mercury&quot;</td><td>&quot;Grand Marquis&quot;</td><td>81.174</td><td>14.875</td><td>&quot;Passenger&quot;</td><td>22.605</td><td>4.6</td><td>200</td><td>114.7</td><td>78.2</td><td>212.0</td><td>3.958</td><td>19.0</td><td>21</td><td>&quot;7/24/2012&quot;</td><td>80.657696</td></tr><tr><td>&quot;BMW&quot;</td><td>&quot;528i&quot;</td><td>17.527</td><td>36.125</td><td>&quot;Passenger&quot;</td><td>38.9</td><td>2.8</td><td>193</td><td>111.4</td><td>70.9</td><td>188.0</td><td>3.472</td><td>18.5</td><td>25</td><td>&quot;4/4/2011&quot;</td><td>83.998724</td></tr></tbody></table></div>"
      ],
      "text/plain": [
       "shape: (10, 16)\n",
       "┌────────────┬───┬────────────┬────────────┬───┬────────────┬────────────┬────────────┬────────────┐\n",
       "│ Manufactur ┆ M ┆ Sales_in_t ┆ __year_res ┆ … ┆ Fuel_capac ┆ Fuel_effic ┆ Latest_Lau ┆ Power_perf │\n",
       "│ er         ┆ o ┆ housands   ┆ ale_value  ┆   ┆ ity        ┆ iency      ┆ nch        ┆ _factor    │\n",
       "│ ---        ┆ d ┆ ---        ┆ ---        ┆   ┆ ---        ┆ ---        ┆ ---        ┆ ---        │\n",
       "│ str        ┆ e ┆ f64        ┆ f64        ┆   ┆ f64        ┆ i64        ┆ str        ┆ f64        │\n",
       "│            ┆ l ┆            ┆            ┆   ┆            ┆            ┆            ┆            │\n",
       "│            ┆ - ┆            ┆            ┆   ┆            ┆            ┆            ┆            │\n",
       "│            ┆ - ┆            ┆            ┆   ┆            ┆            ┆            ┆            │\n",
       "│            ┆ - ┆            ┆            ┆   ┆            ┆            ┆            ┆            │\n",
       "│            ┆ s ┆            ┆            ┆   ┆            ┆            ┆            ┆            │\n",
       "│            ┆ t ┆            ┆            ┆   ┆            ┆            ┆            ┆            │\n",
       "│            ┆ r ┆            ┆            ┆   ┆            ┆            ┆            ┆            │\n",
       "╞════════════╪═══╪════════════╪════════════╪═══╪════════════╪════════════╪════════════╪════════════╡\n",
       "│ Mercedes-B ┆ S ┆ 16.774     ┆ 50.375     ┆ … ┆ 23.2       ┆ 21         ┆ 6/13/2011  ┆ 125.273876 │\n",
       "│            ┆ - ┆            ┆            ┆   ┆            ┆            ┆            ┆            │\n",
       "│            ┆ C ┆            ┆            ┆   ┆            ┆            ┆            ┆            │\n",
       "│            ┆ l ┆            ┆            ┆   ┆            ┆            ┆            ┆            │\n",
       "│            ┆ a ┆            ┆            ┆   ┆            ┆            ┆            ┆            │\n",
       "│            ┆ s ┆            ┆            ┆   ┆            ┆            ┆            ┆            │\n",
       "│            ┆ s ┆            ┆            ┆   ┆            ┆            ┆            ┆            │\n",
       "│ Dodge      ┆ D ┆ 101.323    ┆ null       ┆ … ┆ 25.0       ┆ 17         ┆ 6/27/2012  ┆ 92.854125  │\n",
       "│            ┆ u ┆            ┆            ┆   ┆            ┆            ┆            ┆            │\n",
       "│            ┆ r ┆            ┆            ┆   ┆            ┆            ┆            ┆            │\n",
       "│            ┆ a ┆            ┆            ┆   ┆            ┆            ┆            ┆            │\n",
       "│            ┆ n ┆            ┆            ┆   ┆            ┆            ┆            ┆            │\n",
       "│            ┆ g ┆            ┆            ┆   ┆            ┆            ┆            ┆            │\n",
       "│            ┆ o ┆            ┆            ┆   ┆            ┆            ┆            ┆            │\n",
       "│ Nissan     ┆ F ┆ 65.005     ┆ null       ┆ … ┆ 19.4       ┆ 18         ┆ 8/27/2011  ┆ 67.889271  │\n",
       "│            ┆ r ┆            ┆            ┆   ┆            ┆            ┆            ┆            │\n",
       "│            ┆ o ┆            ┆            ┆   ┆            ┆            ┆            ┆            │\n",
       "│            ┆ n ┆            ┆            ┆   ┆            ┆            ┆            ┆            │\n",
       "│            ┆ t ┆            ┆            ┆   ┆            ┆            ┆            ┆            │\n",
       "│            ┆ i ┆            ┆            ┆   ┆            ┆            ┆            ┆            │\n",
       "│            ┆ e ┆            ┆            ┆   ┆            ┆            ┆            ┆            │\n",
       "│            ┆ r ┆            ┆            ┆   ┆            ┆            ┆            ┆            │\n",
       "│ Dodge      ┆ C ┆ 181.749    ┆ 12.025     ┆ … ┆ 20.0       ┆ 24         ┆ 9/1/2011   ┆ 61.227     │\n",
       "│            ┆ a ┆            ┆            ┆   ┆            ┆            ┆            ┆            │\n",
       "│            ┆ r ┆            ┆            ┆   ┆            ┆            ┆            ┆            │\n",
       "│            ┆ a ┆            ┆            ┆   ┆            ┆            ┆            ┆            │\n",
       "│            ┆ v ┆            ┆            ┆   ┆            ┆            ┆            ┆            │\n",
       "│            ┆ a ┆            ┆            ┆   ┆            ┆            ┆            ┆            │\n",
       "│            ┆ n ┆            ┆            ┆   ┆            ┆            ┆            ┆            │\n",
       "│ …          ┆ … ┆ …          ┆ …          ┆ … ┆ …          ┆ …          ┆ …          ┆ …          │\n",
       "│ Saturn     ┆ S ┆ 80.62      ┆ 9.2        ┆ … ┆ 12.1       ┆ 33         ┆ 8/16/2012  ┆ 39.986425  │\n",
       "│            ┆ L ┆            ┆            ┆   ┆            ┆            ┆            ┆            │\n",
       "│ Pontiac    ┆ B ┆ 35.945     ┆ 13.225     ┆ … ┆ 17.5       ┆ 24         ┆ 5/18/2011  ┆ 82.661356  │\n",
       "│            ┆ o ┆            ┆            ┆   ┆            ┆            ┆            ┆            │\n",
       "│            ┆ n ┆            ┆            ┆   ┆            ┆            ┆            ┆            │\n",
       "│            ┆ n ┆            ┆            ┆   ┆            ┆            ┆            ┆            │\n",
       "│            ┆ e ┆            ┆            ┆   ┆            ┆            ┆            ┆            │\n",
       "│            ┆ v ┆            ┆            ┆   ┆            ┆            ┆            ┆            │\n",
       "│            ┆ i ┆            ┆            ┆   ┆            ┆            ┆            ┆            │\n",
       "│            ┆ l ┆            ┆            ┆   ┆            ┆            ┆            ┆            │\n",
       "│            ┆ l ┆            ┆            ┆   ┆            ┆            ┆            ┆            │\n",
       "│            ┆ e ┆            ┆            ┆   ┆            ┆            ┆            ┆            │\n",
       "│ Mercury    ┆ G ┆ 81.174     ┆ 14.875     ┆ … ┆ 19.0       ┆ 21         ┆ 7/24/2012  ┆ 80.657696  │\n",
       "│            ┆ r ┆            ┆            ┆   ┆            ┆            ┆            ┆            │\n",
       "│            ┆ a ┆            ┆            ┆   ┆            ┆            ┆            ┆            │\n",
       "│            ┆ n ┆            ┆            ┆   ┆            ┆            ┆            ┆            │\n",
       "│            ┆ d ┆            ┆            ┆   ┆            ┆            ┆            ┆            │\n",
       "│            ┆ M ┆            ┆            ┆   ┆            ┆            ┆            ┆            │\n",
       "│            ┆ a ┆            ┆            ┆   ┆            ┆            ┆            ┆            │\n",
       "│            ┆ r ┆            ┆            ┆   ┆            ┆            ┆            ┆            │\n",
       "│            ┆ q ┆            ┆            ┆   ┆            ┆            ┆            ┆            │\n",
       "│            ┆ u ┆            ┆            ┆   ┆            ┆            ┆            ┆            │\n",
       "│            ┆ i ┆            ┆            ┆   ┆            ┆            ┆            ┆            │\n",
       "│            ┆ s ┆            ┆            ┆   ┆            ┆            ┆            ┆            │\n",
       "│ BMW        ┆ 5 ┆ 17.527     ┆ 36.125     ┆ … ┆ 18.5       ┆ 25         ┆ 4/4/2011   ┆ 83.998724  │\n",
       "│            ┆ 2 ┆            ┆            ┆   ┆            ┆            ┆            ┆            │\n",
       "│            ┆ 8 ┆            ┆            ┆   ┆            ┆            ┆            ┆            │\n",
       "│            ┆ i ┆            ┆            ┆   ┆            ┆            ┆            ┆            │\n",
       "└────────────┴───┴────────────┴────────────┴───┴────────────┴────────────┴────────────┴────────────┘"
      ]
     },
     "execution_count": 11,
     "metadata": {},
     "output_type": "execute_result"
    }
   ],
   "source": [
    "dt.sample(10)"
   ]
  },
  {
   "cell_type": "code",
   "execution_count": 50,
   "metadata": {},
   "outputs": [
    {
     "data": {
      "text/html": [
       "<div><style>\n",
       ".dataframe > thead > tr > th,\n",
       ".dataframe > tbody > tr > td {\n",
       "  text-align: right;\n",
       "}\n",
       "</style>\n",
       "<small>shape: (157, 16)</small><table border=\"1\" class=\"dataframe\"><thead><tr><th>Manufacturer</th><th>Model</th><th>Sales_in_thousands</th><th>__year_resale_value</th><th>Vehicle_type</th><th>Price_in_thousands</th><th>Engine_size</th><th>Horsepower</th><th>Wheelbase</th><th>Width</th><th>Length</th><th>Curb_weight</th><th>Fuel_capacity</th><th>Fuel_efficiency</th><th>Latest_Launch</th><th>Power_perf_factor</th></tr><tr><td>str</td><td>str</td><td>str</td><td>f64</td><td>str</td><td>f64</td><td>f64</td><td>i64</td><td>f64</td><td>f64</td><td>f64</td><td>f64</td><td>f64</td><td>i64</td><td>str</td><td>f64</td></tr></thead><tbody><tr><td>&quot;Acura&quot;</td><td>&quot;Integra&quot;</td><td>&quot;16.919&quot;</td><td>16.36</td><td>&quot;Passenger&quot;</td><td>21.5</td><td>1.8</td><td>140</td><td>101.2</td><td>67.3</td><td>172.4</td><td>2.639</td><td>13.2</td><td>28</td><td>&quot;2/2/2012&quot;</td><td>58.28015</td></tr><tr><td>&quot;Acura&quot;</td><td>&quot;TL&quot;</td><td>&quot;39.384&quot;</td><td>19.875</td><td>&quot;Passenger&quot;</td><td>28.4</td><td>3.2</td><td>225</td><td>108.1</td><td>70.3</td><td>192.9</td><td>3.517</td><td>17.2</td><td>25</td><td>&quot;6/3/2011&quot;</td><td>91.370778</td></tr><tr><td>&quot;Acura&quot;</td><td>&quot;CL&quot;</td><td>&quot;14.114&quot;</td><td>18.225</td><td>&quot;Passenger&quot;</td><td>null</td><td>3.2</td><td>225</td><td>106.9</td><td>70.6</td><td>192.0</td><td>3.47</td><td>17.2</td><td>26</td><td>&quot;1/4/2012&quot;</td><td>null</td></tr><tr><td>&quot;Acura&quot;</td><td>&quot;RL&quot;</td><td>&quot;8.588&quot;</td><td>29.725</td><td>&quot;Passenger&quot;</td><td>42.0</td><td>3.5</td><td>210</td><td>114.6</td><td>71.4</td><td>196.6</td><td>3.85</td><td>18.0</td><td>22</td><td>&quot;3/10/2011&quot;</td><td>91.389779</td></tr><tr><td>&quot;Audi&quot;</td><td>&quot;A4&quot;</td><td>&quot;20.397&quot;</td><td>22.255</td><td>&quot;Passenger&quot;</td><td>23.99</td><td>1.8</td><td>150</td><td>102.6</td><td>68.2</td><td>178.0</td><td>2.998</td><td>16.4</td><td>27</td><td>&quot;10/8/2011&quot;</td><td>62.777639</td></tr><tr><td>&quot;Audi&quot;</td><td>&quot;A6&quot;</td><td>&quot;18.78&quot;</td><td>23.555</td><td>&quot;Passenger&quot;</td><td>33.95</td><td>2.8</td><td>200</td><td>108.7</td><td>76.1</td><td>192.0</td><td>3.561</td><td>18.5</td><td>22</td><td>&quot;8/9/2011&quot;</td><td>84.565105</td></tr><tr><td>&quot;Audi&quot;</td><td>&quot;A8&quot;</td><td>&quot;1.38&quot;</td><td>39.0</td><td>&quot;Passenger&quot;</td><td>62.0</td><td>4.2</td><td>310</td><td>113.0</td><td>74.0</td><td>198.2</td><td>3.902</td><td>23.7</td><td>21</td><td>&quot;2/27/2012&quot;</td><td>134.656858</td></tr><tr><td>&quot;BMW&quot;</td><td>&quot;323i&quot;</td><td>&quot;19.747&quot;</td><td>null</td><td>&quot;Passenger&quot;</td><td>26.99</td><td>2.5</td><td>170</td><td>107.3</td><td>68.4</td><td>176.0</td><td>3.179</td><td>16.6</td><td>26</td><td>&quot;6/28/2011&quot;</td><td>71.191207</td></tr><tr><td>&quot;BMW&quot;</td><td>&quot;328i&quot;</td><td>&quot;9.231&quot;</td><td>28.675</td><td>&quot;Passenger&quot;</td><td>33.4</td><td>2.8</td><td>193</td><td>107.3</td><td>68.5</td><td>176.0</td><td>3.197</td><td>16.6</td><td>24</td><td>&quot;1/29/2012&quot;</td><td>81.877069</td></tr><tr><td>&quot;BMW&quot;</td><td>&quot;528i&quot;</td><td>&quot;17.527&quot;</td><td>36.125</td><td>&quot;Passenger&quot;</td><td>38.9</td><td>2.8</td><td>193</td><td>111.4</td><td>70.9</td><td>188.0</td><td>3.472</td><td>18.5</td><td>25</td><td>&quot;4/4/2011&quot;</td><td>83.998724</td></tr><tr><td>&quot;Buick&quot;</td><td>&quot;Century&quot;</td><td>&quot;91.561&quot;</td><td>12.475</td><td>&quot;Passenger&quot;</td><td>21.975</td><td>3.1</td><td>175</td><td>109.0</td><td>72.7</td><td>194.6</td><td>3.368</td><td>17.5</td><td>25</td><td>&quot;11/2/2011&quot;</td><td>71.181451</td></tr><tr><td>&quot;Buick&quot;</td><td>&quot;Regal&quot;</td><td>&quot;39.35&quot;</td><td>13.74</td><td>&quot;Passenger&quot;</td><td>25.3</td><td>3.8</td><td>240</td><td>109.0</td><td>72.7</td><td>196.2</td><td>3.543</td><td>17.5</td><td>23</td><td>&quot;9/3/2011&quot;</td><td>95.636703</td></tr><tr><td>&hellip;</td><td>&hellip;</td><td>&hellip;</td><td>&hellip;</td><td>&hellip;</td><td>&hellip;</td><td>&hellip;</td><td>&hellip;</td><td>&hellip;</td><td>&hellip;</td><td>&hellip;</td><td>&hellip;</td><td>&hellip;</td><td>&hellip;</td><td>&hellip;</td><td>&hellip;</td></tr><tr><td>&quot;Volkswagen&quot;</td><td>&quot;Golf&quot;</td><td>&quot;9.761&quot;</td><td>11.425</td><td>&quot;Passenger&quot;</td><td>14.9</td><td>2.0</td><td>115</td><td>98.9</td><td>68.3</td><td>163.3</td><td>2.767</td><td>14.5</td><td>26</td><td>&quot;1/24/2011&quot;</td><td>46.943877</td></tr><tr><td>&quot;Volkswagen&quot;</td><td>&quot;Jetta&quot;</td><td>&quot;83.721&quot;</td><td>13.24</td><td>&quot;Passenger&quot;</td><td>16.7</td><td>2.0</td><td>115</td><td>98.9</td><td>68.3</td><td>172.3</td><td>2.853</td><td>14.5</td><td>26</td><td>&quot;8/27/2011&quot;</td><td>47.638237</td></tr><tr><td>&quot;Volkswagen&quot;</td><td>&quot;Passat&quot;</td><td>&quot;51.102&quot;</td><td>16.725</td><td>&quot;Passenger&quot;</td><td>21.2</td><td>1.8</td><td>150</td><td>106.4</td><td>68.5</td><td>184.1</td><td>3.043</td><td>16.4</td><td>27</td><td>&quot;10/30/2012&quot;</td><td>61.701381</td></tr><tr><td>&quot;Volkswagen&quot;</td><td>&quot;Cabrio&quot;</td><td>&quot;9.569&quot;</td><td>16.575</td><td>&quot;Passenger&quot;</td><td>19.99</td><td>2.0</td><td>115</td><td>97.4</td><td>66.7</td><td>160.4</td><td>3.079</td><td>13.7</td><td>26</td><td>&quot;5/31/2011&quot;</td><td>48.907372</td></tr><tr><td>&quot;Volkswagen&quot;</td><td>&quot;GTI&quot;</td><td>&quot;5.596&quot;</td><td>13.76</td><td>&quot;Passenger&quot;</td><td>17.5</td><td>2.0</td><td>115</td><td>98.9</td><td>68.3</td><td>163.3</td><td>2.762</td><td>14.6</td><td>26</td><td>&quot;4/1/2011&quot;</td><td>47.946841</td></tr><tr><td>&quot;Volkswagen&quot;</td><td>&quot;Beetle&quot;</td><td>&quot;49.463&quot;</td><td>null</td><td>&quot;Passenger&quot;</td><td>15.9</td><td>2.0</td><td>115</td><td>98.9</td><td>67.9</td><td>161.1</td><td>2.769</td><td>14.5</td><td>26</td><td>&quot;10/20/2011&quot;</td><td>47.329632</td></tr><tr><td>&quot;Volvo&quot;</td><td>&quot;S40&quot;</td><td>&quot;16.957&quot;</td><td>null</td><td>&quot;Passenger&quot;</td><td>23.4</td><td>1.9</td><td>160</td><td>100.5</td><td>67.6</td><td>176.6</td><td>2.998</td><td>15.8</td><td>25</td><td>&quot;2/18/2011&quot;</td><td>66.113057</td></tr><tr><td>&quot;Volvo&quot;</td><td>&quot;V40&quot;</td><td>&quot;3.545&quot;</td><td>null</td><td>&quot;Passenger&quot;</td><td>24.4</td><td>1.9</td><td>160</td><td>100.5</td><td>67.6</td><td>176.6</td><td>3.042</td><td>15.8</td><td>25</td><td>&quot;9/21/2011&quot;</td><td>66.498812</td></tr><tr><td>&quot;Volvo&quot;</td><td>&quot;S70&quot;</td><td>&quot;15.245&quot;</td><td>null</td><td>&quot;Passenger&quot;</td><td>27.5</td><td>2.4</td><td>168</td><td>104.9</td><td>69.3</td><td>185.9</td><td>3.208</td><td>17.9</td><td>25</td><td>&quot;11/24/2012&quot;</td><td>70.654495</td></tr><tr><td>&quot;Volvo&quot;</td><td>&quot;V70&quot;</td><td>&quot;17.531&quot;</td><td>null</td><td>&quot;Passenger&quot;</td><td>28.8</td><td>2.4</td><td>168</td><td>104.9</td><td>69.3</td><td>186.2</td><td>3.259</td><td>17.9</td><td>25</td><td>&quot;6/25/2011&quot;</td><td>71.155978</td></tr><tr><td>&quot;Volvo&quot;</td><td>&quot;C70&quot;</td><td>&quot;3.493&quot;</td><td>null</td><td>&quot;Passenger&quot;</td><td>45.5</td><td>2.3</td><td>236</td><td>104.9</td><td>71.5</td><td>185.7</td><td>3.601</td><td>18.5</td><td>23</td><td>&quot;4/26/2011&quot;</td><td>101.623357</td></tr><tr><td>&quot;Volvo&quot;</td><td>&quot;S80&quot;</td><td>&quot;18.969&quot;</td><td>null</td><td>&quot;Passenger&quot;</td><td>36.0</td><td>2.9</td><td>201</td><td>109.9</td><td>72.1</td><td>189.8</td><td>3.6</td><td>21.1</td><td>24</td><td>&quot;11/14/2011&quot;</td><td>85.735655</td></tr></tbody></table></div>"
      ],
      "text/plain": [
       "shape: (157, 16)\n",
       "┌────────────┬─────────┬────────────┬────────────┬───┬────────────┬────────────┬────────────┬────────────┐\n",
       "│ Manufactur ┆ Model   ┆ Sales_in_t ┆ __year_res ┆ … ┆ Fuel_capac ┆ Fuel_effic ┆ Latest_Lau ┆ Power_perf │\n",
       "│ er         ┆ ---     ┆ housands   ┆ ale_value  ┆   ┆ ity        ┆ iency      ┆ nch        ┆ _factor    │\n",
       "│ ---        ┆ str     ┆ ---        ┆ ---        ┆   ┆ ---        ┆ ---        ┆ ---        ┆ ---        │\n",
       "│ str        ┆         ┆ str        ┆ f64        ┆   ┆ f64        ┆ i64        ┆ str        ┆ f64        │\n",
       "╞════════════╪═════════╪════════════╪════════════╪═══╪════════════╪════════════╪════════════╪════════════╡\n",
       "│ Acura      ┆ Integra ┆ 16.919     ┆ 16.36      ┆ … ┆ 13.2       ┆ 28         ┆ 2/2/2012   ┆ 58.28015   │\n",
       "│ Acura      ┆ TL      ┆ 39.384     ┆ 19.875     ┆ … ┆ 17.2       ┆ 25         ┆ 6/3/2011   ┆ 91.370778  │\n",
       "│ Acura      ┆ CL      ┆ 14.114     ┆ 18.225     ┆ … ┆ 17.2       ┆ 26         ┆ 1/4/2012   ┆ null       │\n",
       "│ Acura      ┆ RL      ┆ 8.588      ┆ 29.725     ┆ … ┆ 18.0       ┆ 22         ┆ 3/10/2011  ┆ 91.389779  │\n",
       "│ …          ┆ …       ┆ …          ┆ …          ┆ … ┆ …          ┆ …          ┆ …          ┆ …          │\n",
       "│ Volvo      ┆ S70     ┆ 15.245     ┆ null       ┆ … ┆ 17.9       ┆ 25         ┆ 11/24/2012 ┆ 70.654495  │\n",
       "│ Volvo      ┆ V70     ┆ 17.531     ┆ null       ┆ … ┆ 17.9       ┆ 25         ┆ 6/25/2011  ┆ 71.155978  │\n",
       "│ Volvo      ┆ C70     ┆ 3.493      ┆ null       ┆ … ┆ 18.5       ┆ 23         ┆ 4/26/2011  ┆ 101.623357 │\n",
       "│ Volvo      ┆ S80     ┆ 18.969     ┆ null       ┆ … ┆ 21.1       ┆ 24         ┆ 11/14/2011 ┆ 85.735655  │\n",
       "└────────────┴─────────┴────────────┴────────────┴───┴────────────┴────────────┴────────────┴────────────┘"
      ]
     },
     "execution_count": 50,
     "metadata": {},
     "output_type": "execute_result"
    }
   ],
   "source": [
    "dt.with_columns(pl.col('Sales_in_thousands').cast(yy))"
   ]
  },
  {
   "cell_type": "code",
   "execution_count": 51,
   "metadata": {},
   "outputs": [
    {
     "data": {
      "text/html": [
       "<div><style>\n",
       ".dataframe > thead > tr > th,\n",
       ".dataframe > tbody > tr > td {\n",
       "  text-align: right;\n",
       "}\n",
       "</style>\n",
       "<small>shape: (157, 16)</small><table border=\"1\" class=\"dataframe\"><thead><tr><th>Manufacturer</th><th>Model</th><th>Sales_in_thousands</th><th>__year_resale_value</th><th>Vehicle_type</th><th>Price_in_thousands</th><th>Engine_size</th><th>Horsepower</th><th>Wheelbase</th><th>Width</th><th>Length</th><th>Curb_weight</th><th>Fuel_capacity</th><th>Fuel_efficiency</th><th>Latest_Launch</th><th>Power_perf_factor</th></tr><tr><td>str</td><td>str</td><td>f64</td><td>f64</td><td>str</td><td>f64</td><td>f64</td><td>i64</td><td>f64</td><td>f64</td><td>f64</td><td>f64</td><td>f64</td><td>i64</td><td>str</td><td>f64</td></tr></thead><tbody><tr><td>&quot;Acura&quot;</td><td>&quot;Integra&quot;</td><td>16.919</td><td>16.36</td><td>&quot;Passenger&quot;</td><td>21.5</td><td>1.8</td><td>140</td><td>101.2</td><td>67.3</td><td>172.4</td><td>2.639</td><td>13.2</td><td>28</td><td>&quot;2/2/2012&quot;</td><td>58.28015</td></tr><tr><td>&quot;Acura&quot;</td><td>&quot;TL&quot;</td><td>39.384</td><td>19.875</td><td>&quot;Passenger&quot;</td><td>28.4</td><td>3.2</td><td>225</td><td>108.1</td><td>70.3</td><td>192.9</td><td>3.517</td><td>17.2</td><td>25</td><td>&quot;6/3/2011&quot;</td><td>91.370778</td></tr><tr><td>&quot;Acura&quot;</td><td>&quot;CL&quot;</td><td>14.114</td><td>18.225</td><td>&quot;Passenger&quot;</td><td>null</td><td>3.2</td><td>225</td><td>106.9</td><td>70.6</td><td>192.0</td><td>3.47</td><td>17.2</td><td>26</td><td>&quot;1/4/2012&quot;</td><td>null</td></tr><tr><td>&quot;Acura&quot;</td><td>&quot;RL&quot;</td><td>8.588</td><td>29.725</td><td>&quot;Passenger&quot;</td><td>42.0</td><td>3.5</td><td>210</td><td>114.6</td><td>71.4</td><td>196.6</td><td>3.85</td><td>18.0</td><td>22</td><td>&quot;3/10/2011&quot;</td><td>91.389779</td></tr><tr><td>&quot;Audi&quot;</td><td>&quot;A4&quot;</td><td>20.397</td><td>22.255</td><td>&quot;Passenger&quot;</td><td>23.99</td><td>1.8</td><td>150</td><td>102.6</td><td>68.2</td><td>178.0</td><td>2.998</td><td>16.4</td><td>27</td><td>&quot;10/8/2011&quot;</td><td>62.777639</td></tr><tr><td>&quot;Audi&quot;</td><td>&quot;A6&quot;</td><td>18.78</td><td>23.555</td><td>&quot;Passenger&quot;</td><td>33.95</td><td>2.8</td><td>200</td><td>108.7</td><td>76.1</td><td>192.0</td><td>3.561</td><td>18.5</td><td>22</td><td>&quot;8/9/2011&quot;</td><td>84.565105</td></tr><tr><td>&quot;Audi&quot;</td><td>&quot;A8&quot;</td><td>1.38</td><td>39.0</td><td>&quot;Passenger&quot;</td><td>62.0</td><td>4.2</td><td>310</td><td>113.0</td><td>74.0</td><td>198.2</td><td>3.902</td><td>23.7</td><td>21</td><td>&quot;2/27/2012&quot;</td><td>134.656858</td></tr><tr><td>&quot;BMW&quot;</td><td>&quot;323i&quot;</td><td>19.747</td><td>null</td><td>&quot;Passenger&quot;</td><td>26.99</td><td>2.5</td><td>170</td><td>107.3</td><td>68.4</td><td>176.0</td><td>3.179</td><td>16.6</td><td>26</td><td>&quot;6/28/2011&quot;</td><td>71.191207</td></tr><tr><td>&quot;BMW&quot;</td><td>&quot;328i&quot;</td><td>9.231</td><td>28.675</td><td>&quot;Passenger&quot;</td><td>33.4</td><td>2.8</td><td>193</td><td>107.3</td><td>68.5</td><td>176.0</td><td>3.197</td><td>16.6</td><td>24</td><td>&quot;1/29/2012&quot;</td><td>81.877069</td></tr><tr><td>&quot;BMW&quot;</td><td>&quot;528i&quot;</td><td>17.527</td><td>36.125</td><td>&quot;Passenger&quot;</td><td>38.9</td><td>2.8</td><td>193</td><td>111.4</td><td>70.9</td><td>188.0</td><td>3.472</td><td>18.5</td><td>25</td><td>&quot;4/4/2011&quot;</td><td>83.998724</td></tr><tr><td>&quot;Buick&quot;</td><td>&quot;Century&quot;</td><td>91.561</td><td>12.475</td><td>&quot;Passenger&quot;</td><td>21.975</td><td>3.1</td><td>175</td><td>109.0</td><td>72.7</td><td>194.6</td><td>3.368</td><td>17.5</td><td>25</td><td>&quot;11/2/2011&quot;</td><td>71.181451</td></tr><tr><td>&quot;Buick&quot;</td><td>&quot;Regal&quot;</td><td>39.35</td><td>13.74</td><td>&quot;Passenger&quot;</td><td>25.3</td><td>3.8</td><td>240</td><td>109.0</td><td>72.7</td><td>196.2</td><td>3.543</td><td>17.5</td><td>23</td><td>&quot;9/3/2011&quot;</td><td>95.636703</td></tr><tr><td>&hellip;</td><td>&hellip;</td><td>&hellip;</td><td>&hellip;</td><td>&hellip;</td><td>&hellip;</td><td>&hellip;</td><td>&hellip;</td><td>&hellip;</td><td>&hellip;</td><td>&hellip;</td><td>&hellip;</td><td>&hellip;</td><td>&hellip;</td><td>&hellip;</td><td>&hellip;</td></tr><tr><td>&quot;Volkswagen&quot;</td><td>&quot;Golf&quot;</td><td>9.761</td><td>11.425</td><td>&quot;Passenger&quot;</td><td>14.9</td><td>2.0</td><td>115</td><td>98.9</td><td>68.3</td><td>163.3</td><td>2.767</td><td>14.5</td><td>26</td><td>&quot;1/24/2011&quot;</td><td>46.943877</td></tr><tr><td>&quot;Volkswagen&quot;</td><td>&quot;Jetta&quot;</td><td>83.721</td><td>13.24</td><td>&quot;Passenger&quot;</td><td>16.7</td><td>2.0</td><td>115</td><td>98.9</td><td>68.3</td><td>172.3</td><td>2.853</td><td>14.5</td><td>26</td><td>&quot;8/27/2011&quot;</td><td>47.638237</td></tr><tr><td>&quot;Volkswagen&quot;</td><td>&quot;Passat&quot;</td><td>51.102</td><td>16.725</td><td>&quot;Passenger&quot;</td><td>21.2</td><td>1.8</td><td>150</td><td>106.4</td><td>68.5</td><td>184.1</td><td>3.043</td><td>16.4</td><td>27</td><td>&quot;10/30/2012&quot;</td><td>61.701381</td></tr><tr><td>&quot;Volkswagen&quot;</td><td>&quot;Cabrio&quot;</td><td>9.569</td><td>16.575</td><td>&quot;Passenger&quot;</td><td>19.99</td><td>2.0</td><td>115</td><td>97.4</td><td>66.7</td><td>160.4</td><td>3.079</td><td>13.7</td><td>26</td><td>&quot;5/31/2011&quot;</td><td>48.907372</td></tr><tr><td>&quot;Volkswagen&quot;</td><td>&quot;GTI&quot;</td><td>5.596</td><td>13.76</td><td>&quot;Passenger&quot;</td><td>17.5</td><td>2.0</td><td>115</td><td>98.9</td><td>68.3</td><td>163.3</td><td>2.762</td><td>14.6</td><td>26</td><td>&quot;4/1/2011&quot;</td><td>47.946841</td></tr><tr><td>&quot;Volkswagen&quot;</td><td>&quot;Beetle&quot;</td><td>49.463</td><td>null</td><td>&quot;Passenger&quot;</td><td>15.9</td><td>2.0</td><td>115</td><td>98.9</td><td>67.9</td><td>161.1</td><td>2.769</td><td>14.5</td><td>26</td><td>&quot;10/20/2011&quot;</td><td>47.329632</td></tr><tr><td>&quot;Volvo&quot;</td><td>&quot;S40&quot;</td><td>16.957</td><td>null</td><td>&quot;Passenger&quot;</td><td>23.4</td><td>1.9</td><td>160</td><td>100.5</td><td>67.6</td><td>176.6</td><td>2.998</td><td>15.8</td><td>25</td><td>&quot;2/18/2011&quot;</td><td>66.113057</td></tr><tr><td>&quot;Volvo&quot;</td><td>&quot;V40&quot;</td><td>3.545</td><td>null</td><td>&quot;Passenger&quot;</td><td>24.4</td><td>1.9</td><td>160</td><td>100.5</td><td>67.6</td><td>176.6</td><td>3.042</td><td>15.8</td><td>25</td><td>&quot;9/21/2011&quot;</td><td>66.498812</td></tr><tr><td>&quot;Volvo&quot;</td><td>&quot;S70&quot;</td><td>15.245</td><td>null</td><td>&quot;Passenger&quot;</td><td>27.5</td><td>2.4</td><td>168</td><td>104.9</td><td>69.3</td><td>185.9</td><td>3.208</td><td>17.9</td><td>25</td><td>&quot;11/24/2012&quot;</td><td>70.654495</td></tr><tr><td>&quot;Volvo&quot;</td><td>&quot;V70&quot;</td><td>17.531</td><td>null</td><td>&quot;Passenger&quot;</td><td>28.8</td><td>2.4</td><td>168</td><td>104.9</td><td>69.3</td><td>186.2</td><td>3.259</td><td>17.9</td><td>25</td><td>&quot;6/25/2011&quot;</td><td>71.155978</td></tr><tr><td>&quot;Volvo&quot;</td><td>&quot;C70&quot;</td><td>3.493</td><td>null</td><td>&quot;Passenger&quot;</td><td>45.5</td><td>2.3</td><td>236</td><td>104.9</td><td>71.5</td><td>185.7</td><td>3.601</td><td>18.5</td><td>23</td><td>&quot;4/26/2011&quot;</td><td>101.623357</td></tr><tr><td>&quot;Volvo&quot;</td><td>&quot;S80&quot;</td><td>18.969</td><td>null</td><td>&quot;Passenger&quot;</td><td>36.0</td><td>2.9</td><td>201</td><td>109.9</td><td>72.1</td><td>189.8</td><td>3.6</td><td>21.1</td><td>24</td><td>&quot;11/14/2011&quot;</td><td>85.735655</td></tr></tbody></table></div>"
      ],
      "text/plain": [
       "shape: (157, 16)\n",
       "┌────────────┬─────────┬────────────┬────────────┬───┬────────────┬────────────┬────────────┬────────────┐\n",
       "│ Manufactur ┆ Model   ┆ Sales_in_t ┆ __year_res ┆ … ┆ Fuel_capac ┆ Fuel_effic ┆ Latest_Lau ┆ Power_perf │\n",
       "│ er         ┆ ---     ┆ housands   ┆ ale_value  ┆   ┆ ity        ┆ iency      ┆ nch        ┆ _factor    │\n",
       "│ ---        ┆ str     ┆ ---        ┆ ---        ┆   ┆ ---        ┆ ---        ┆ ---        ┆ ---        │\n",
       "│ str        ┆         ┆ f64        ┆ f64        ┆   ┆ f64        ┆ i64        ┆ str        ┆ f64        │\n",
       "╞════════════╪═════════╪════════════╪════════════╪═══╪════════════╪════════════╪════════════╪════════════╡\n",
       "│ Acura      ┆ Integra ┆ 16.919     ┆ 16.36      ┆ … ┆ 13.2       ┆ 28         ┆ 2/2/2012   ┆ 58.28015   │\n",
       "│ Acura      ┆ TL      ┆ 39.384     ┆ 19.875     ┆ … ┆ 17.2       ┆ 25         ┆ 6/3/2011   ┆ 91.370778  │\n",
       "│ Acura      ┆ CL      ┆ 14.114     ┆ 18.225     ┆ … ┆ 17.2       ┆ 26         ┆ 1/4/2012   ┆ null       │\n",
       "│ Acura      ┆ RL      ┆ 8.588      ┆ 29.725     ┆ … ┆ 18.0       ┆ 22         ┆ 3/10/2011  ┆ 91.389779  │\n",
       "│ …          ┆ …       ┆ …          ┆ …          ┆ … ┆ …          ┆ …          ┆ …          ┆ …          │\n",
       "│ Volvo      ┆ S70     ┆ 15.245     ┆ null       ┆ … ┆ 17.9       ┆ 25         ┆ 11/24/2012 ┆ 70.654495  │\n",
       "│ Volvo      ┆ V70     ┆ 17.531     ┆ null       ┆ … ┆ 17.9       ┆ 25         ┆ 6/25/2011  ┆ 71.155978  │\n",
       "│ Volvo      ┆ C70     ┆ 3.493      ┆ null       ┆ … ┆ 18.5       ┆ 23         ┆ 4/26/2011  ┆ 101.623357 │\n",
       "│ Volvo      ┆ S80     ┆ 18.969     ┆ null       ┆ … ┆ 21.1       ┆ 24         ┆ 11/14/2011 ┆ 85.735655  │\n",
       "└────────────┴─────────┴────────────┴────────────┴───┴────────────┴────────────┴────────────┴────────────┘"
      ]
     },
     "execution_count": 51,
     "metadata": {},
     "output_type": "execute_result"
    }
   ],
   "source": [
    "dt"
   ]
  },
  {
   "cell_type": "code",
   "execution_count": 45,
   "metadata": {},
   "outputs": [],
   "source": [
    "mm = [pl.Decimal, pl.Float64, pl.Int64, pl.UInt64, pl.Date, pl.Datetime, pl.Boolean, pl.Binary, pl.Categorical, pl.Utf8]"
   ]
  },
  {
   "cell_type": "code",
   "execution_count": 49,
   "metadata": {},
   "outputs": [
    {
     "data": {
      "text/plain": [
       "9"
      ]
     },
     "execution_count": 49,
     "metadata": {},
     "output_type": "execute_result"
    }
   ],
   "source": [
    "mm.index(yy)"
   ]
  },
  {
   "cell_type": "code",
   "execution_count": 47,
   "metadata": {},
   "outputs": [
    {
     "data": {
      "text/plain": [
       "Utf8"
      ]
     },
     "execution_count": 47,
     "metadata": {},
     "output_type": "execute_result"
    }
   ],
   "source": [
    "yy"
   ]
  },
  {
   "cell_type": "code",
   "execution_count": 48,
   "metadata": {},
   "outputs": [
    {
     "data": {
      "text/plain": [
       "Utf8"
      ]
     },
     "execution_count": 48,
     "metadata": {},
     "output_type": "execute_result"
    }
   ],
   "source": [
    "mm[-1]"
   ]
  },
  {
   "cell_type": "code",
   "execution_count": null,
   "metadata": {},
   "outputs": [],
   "source": []
  }
 ],
 "metadata": {
  "kernelspec": {
   "display_name": "dfs",
   "language": "python",
   "name": "dfs"
  },
  "language_info": {
   "codemirror_mode": {
    "name": "ipython",
    "version": 3
   },
   "file_extension": ".py",
   "mimetype": "text/x-python",
   "name": "python",
   "nbconvert_exporter": "python",
   "pygments_lexer": "ipython3",
   "version": "3.8.10"
  },
  "orig_nbformat": 4
 },
 "nbformat": 4,
 "nbformat_minor": 2
}
